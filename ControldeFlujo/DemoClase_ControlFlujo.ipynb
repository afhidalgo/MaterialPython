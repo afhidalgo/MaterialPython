{
 "cells": [
  {
   "cell_type": "markdown",
   "metadata": {},
   "source": [
    "Problema 0: Ordenar lista de números enteros"
   ]
  },
  {
   "cell_type": "code",
   "execution_count": 65,
   "metadata": {},
   "outputs": [
    {
     "name": "stdout",
     "output_type": "stream",
     "text": [
      "[1, 2, 3, 3, 5, 8, 9, 11, 23, 89]\n",
      "Sort method 2:  [89]\n"
     ]
    }
   ],
   "source": [
    "# Introduce n int numbers\n",
    "# n = int(input(\"Introduce the size of list: \"))\n",
    "# list1 = [0]*n\n",
    "\n",
    "# #fill the list\n",
    "# for i in range(n):\n",
    "#     list1[i] = int(input(f\"Introduce the element {i}\"))\n",
    "\n",
    "# print(\"The list is: \", list1)\n",
    "\n",
    "list1 = [23, 89, 1, 9, 8, 3, 5, 3, 11, 2]\n",
    "n = len(list1)\n",
    "x = list1\n",
    "#sort the list (method 1)\n",
    "list_ord = [0]*n\n",
    "temp_max = list1[0]\n",
    "n1 = len(list1)\n",
    "for i in range(n):\n",
    "    if len(list1)>1:\n",
    "        for j in range(1,n1):\n",
    "            if temp_max>= list1[j]:\n",
    "                temp_max = list1[j]\n",
    "                ind_remove = j\n",
    "\n",
    "        list_ord[i] = temp_max\n",
    "    \n",
    "        list1.pop(ind_remove)  \n",
    "        temp_max = list1[0]   \n",
    "        ind_remove = 0\n",
    "        n1 = len(list1) \n",
    "    else:\n",
    "        list_ord[i] = list1[0]\n",
    "    \n",
    "\n",
    "print(list_ord)\n",
    "\n",
    "\n"
   ]
  },
  {
   "cell_type": "code",
   "execution_count": 71,
   "metadata": {},
   "outputs": [],
   "source": [
    "for i in range(-1):\n",
    "    print(i)\n"
   ]
  },
  {
   "cell_type": "markdown",
   "metadata": {},
   "source": []
  },
  {
   "cell_type": "markdown",
   "metadata": {},
   "source": [
    "Problema 0-1: sort method 2"
   ]
  },
  {
   "cell_type": "code",
   "execution_count": 67,
   "metadata": {},
   "outputs": [
    {
     "name": "stdout",
     "output_type": "stream",
     "text": [
      "Sort method 2:  [1, 2, 3, 3, 5, 8, 9, 11, 23, 89]\n"
     ]
    }
   ],
   "source": [
    "#sort method 2\n",
    "list1 = [23, 89, 1, 9, 8, 3, 5, 3, 11, 2]\n",
    "n = len(list1)\n",
    "x = list1\n",
    "for i in range(n):\n",
    "    for j in range(n-1-i):\n",
    "        if x[j]>x[j+1]:\n",
    "            x[j], x[j+1] = x[j+1], x[j]\n",
    "\n",
    "print(\"Sort method 2: \", x)"
   ]
  },
  {
   "cell_type": "markdown",
   "metadata": {},
   "source": [
    "Problema 1: Fusión de listas\\\n",
    "Pide al usuario que introduzca dos listas de números enteros. A continuación ordena las listas y fusiónalas en una única lista ordenada de menor a mayor."
   ]
  },
  {
   "cell_type": "code",
   "execution_count": null,
   "metadata": {},
   "outputs": [],
   "source": [
    "def combinar_listas_ordenadas(lista1, lista2):\n",
    "    i, j = 0, 0\n",
    "    lista_combinada = []\n",
    "\n",
    "    while i < len(lista1) and j < len(lista2):\n",
    "        if lista1[i] < lista2[j]:\n",
    "            lista_combinada.append(lista1[i])\n",
    "            i += 1\n",
    "        else:\n",
    "            lista_combinada.append(lista2[j])\n",
    "            j += 1\n",
    "\n",
    "    lista_combinada.extend(lista1[i:])\n",
    "    lista_combinada.extend(lista2[j:])\n",
    "    return lista_combinada\n",
    "\n",
    "numeros_1 = [1, 3, 5, 7, 9]\n",
    "numeros_2 = [2, 4, 6, 8, 10]\n",
    "lista_combinada = combinar_listas_ordenadas(numeros_1, numeros_2)\n",
    "\n",
    "print(\"Lista combinada ordenada:\", lista_combinada)\n"
   ]
  },
  {
   "cell_type": "markdown",
   "metadata": {},
   "source": [
    "Problema 2: búsqueda binaria\\\n",
    "Realizar una búsqueda binaria en una lista ordenada para encontrar un elemento específico."
   ]
  },
  {
   "cell_type": "code",
   "execution_count": null,
   "metadata": {},
   "outputs": [],
   "source": [
    "def busqueda_binaria(lista, elemento):\n",
    "    izquierda, derecha = 0, len(lista) - 1\n",
    "\n",
    "    while izquierda <= derecha:\n",
    "        medio = (izquierda + derecha) // 2\n",
    "        if lista[medio] == elemento:\n",
    "            return medio\n",
    "        elif lista[medio] < elemento:\n",
    "            izquierda = medio + 1\n",
    "        else:\n",
    "            derecha = medio - 1\n",
    "\n",
    "    return -1\n",
    "\n",
    "numeros_ordenados = [2, 4, 6, 8, 10, 12, 14, 16]\n",
    "elemento_buscado = 10\n",
    "indice = busqueda_binaria(numeros_ordenados, elemento_buscado)\n",
    "\n",
    "if indice != -1:\n",
    "    print(f\"El elemento {elemento_buscado} está en la posición {indice}.\")\n",
    "else:\n",
    "    print(f\"El elemento {elemento_buscado} no está en la lista.\")\n"
   ]
  },
  {
   "cell_type": "markdown",
   "metadata": {},
   "source": [
    "Problema 3: Eliminar duplicados de una lista"
   ]
  },
  {
   "cell_type": "code",
   "execution_count": null,
   "metadata": {},
   "outputs": [],
   "source": [
    "def eliminar_duplicados(lista):\n",
    "    lista_sin_duplicados = []\n",
    "    for elemento in lista:\n",
    "        if elemento not in lista_sin_duplicados:\n",
    "            lista_sin_duplicados.append(elemento)\n",
    "    return lista_sin_duplicados\n",
    "\n",
    "lista_ordenada = [1, 2, 2, 3, 4, 4, 5, 5, 5]\n",
    "lista_sin_duplicados = eliminar_duplicados(lista_ordenada)\n",
    "print(\"Lista sin duplicados:\", lista_sin_duplicados)\n"
   ]
  },
  {
   "cell_type": "markdown",
   "metadata": {},
   "source": [
    "Pregunta en clase"
   ]
  },
  {
   "cell_type": "code",
   "execution_count": 72,
   "metadata": {},
   "outputs": [
    {
     "name": "stdout",
     "output_type": "stream",
     "text": [
      "10\n"
     ]
    }
   ],
   "source": [
    "contador = 0\n",
    "suma = 0\n",
    "\n",
    "while contador < 5:\n",
    "    suma += contador\n",
    "    contador += 1\n",
    "\n",
    "print(suma)\n"
   ]
  }
 ],
 "metadata": {
  "kernelspec": {
   "display_name": "Python 3",
   "language": "python",
   "name": "python3"
  },
  "language_info": {
   "codemirror_mode": {
    "name": "ipython",
    "version": 3
   },
   "file_extension": ".py",
   "mimetype": "text/x-python",
   "name": "python",
   "nbconvert_exporter": "python",
   "pygments_lexer": "ipython3",
   "version": "3.11.7"
  }
 },
 "nbformat": 4,
 "nbformat_minor": 2
}
