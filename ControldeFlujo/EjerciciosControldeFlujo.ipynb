{
 "cells": [
  {
   "cell_type": "markdown",
   "metadata": {},
   "source": [
    "Problema 1: Conteo de letras\\\n",
    "Dada una cadena de texto, contar la frecuencia de cada letra y almacenar el resultado en un diccionario."
   ]
  },
  {
   "cell_type": "code",
   "execution_count": null,
   "metadata": {},
   "outputs": [],
   "source": []
  },
  {
   "cell_type": "markdown",
   "metadata": {},
   "source": [
    "Problema 2: Filtrar números pares\\\n",
    "Dada una lista de números, crear una nueva lista que contenga solo los números pares.\n"
   ]
  },
  {
   "cell_type": "code",
   "execution_count": null,
   "metadata": {},
   "outputs": [],
   "source": []
  },
  {
   "cell_type": "markdown",
   "metadata": {},
   "source": [
    "Problema 3: Verificar anagramas\\\n",
    "Dadas dos cadenas, verificar si son anagramas (es decir, si contienen exactamente las mismas letras, pero posiblemente en un orden diferente)."
   ]
  },
  {
   "cell_type": "code",
   "execution_count": null,
   "metadata": {},
   "outputs": [],
   "source": []
  },
  {
   "cell_type": "markdown",
   "metadata": {},
   "source": [
    "Problema 4: Calcular promedio de valores\\\n",
    "Dado un diccionario que contiene nombres de estudiantes como claves y listas de calificaciones como valores, calcular el promedio de calificaciones para cada estudiante."
   ]
  },
  {
   "cell_type": "code",
   "execution_count": null,
   "metadata": {},
   "outputs": [],
   "source": []
  },
  {
   "cell_type": "markdown",
   "metadata": {},
   "source": [
    "Problema 5: Eliminar duplicados de una lista\\\n",
    "Dada una lista, eliminar todos los elementos duplicados y conservar solo una instancia de cada elemento único."
   ]
  }
 ],
 "metadata": {
  "language_info": {
   "name": "python"
  }
 },
 "nbformat": 4,
 "nbformat_minor": 2
}
