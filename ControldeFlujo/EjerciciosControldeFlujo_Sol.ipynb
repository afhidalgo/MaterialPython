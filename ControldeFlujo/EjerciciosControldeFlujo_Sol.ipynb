{
 "cells": [
  {
   "cell_type": "markdown",
   "metadata": {},
   "source": [
    "Problema 1: Conteo de letras\n",
    "Dada una cadena de texto, contar la frecuencia de cada letra y almacenar el resultado en un diccionario."
   ]
  },
  {
   "cell_type": "code",
   "execution_count": null,
   "metadata": {},
   "outputs": [],
   "source": [
    "def contar_letras(texto):\n",
    "    contador = {}\n",
    "    for letra in texto:\n",
    "        if letra.isalpha():\n",
    "            if letra.lower() in contador:\n",
    "                contador[letra.lower()] += 1\n",
    "            else:\n",
    "                contador[letra.lower()] = 1\n",
    "    return contador\n",
    "\n",
    "texto = \"Hola Mundo\"\n",
    "resultado = contar_letras(texto)\n",
    "print(resultado)\n"
   ]
  },
  {
   "cell_type": "markdown",
   "metadata": {},
   "source": [
    "Problema 2: Filtrar números pares\n",
    "Dada una lista de números, crear una nueva lista que contenga solo los números pares.\n"
   ]
  },
  {
   "cell_type": "code",
   "execution_count": null,
   "metadata": {},
   "outputs": [],
   "source": [
    "def filtrar_pares(numeros):\n",
    "    pares = []\n",
    "    for num in numeros:\n",
    "        if num % 2 == 0:\n",
    "            pares.append(num)\n",
    "    return pares\n",
    "\n",
    "numeros = [1, 2, 3, 4, 5, 6, 7, 8, 9, 10]\n",
    "pares = filtrar_pares(numeros)\n",
    "print(pares)\n"
   ]
  },
  {
   "cell_type": "markdown",
   "metadata": {},
   "source": [
    "Problema 3: Verificar anagramas\n",
    "Dadas dos cadenas, verificar si son anagramas (es decir, si contienen exactamente las mismas letras, pero posiblemente en un orden diferente)."
   ]
  },
  {
   "cell_type": "code",
   "execution_count": null,
   "metadata": {},
   "outputs": [],
   "source": [
    "def son_anagramas(cadena1, cadena2):\n",
    "    if len(cadena1) != len(cadena2):\n",
    "        return False\n",
    "    contador1 = contar_letras(cadena1)\n",
    "    contador2 = contar_letras(cadena2)\n",
    "    return contador1 == contador2\n",
    "\n",
    "cadena1 = \"listen\"\n",
    "cadena2 = \"silent\"\n",
    "resultado = son_anagramas(cadena1, cadena2)\n",
    "print(resultado)\n"
   ]
  },
  {
   "cell_type": "markdown",
   "metadata": {},
   "source": [
    "Problema 4: Calcular promedio de valores\n",
    "Dado un diccionario que contiene nombres de estudiantes como claves y listas de calificaciones como valores, calcular el promedio de calificaciones para cada estudiante."
   ]
  },
  {
   "cell_type": "code",
   "execution_count": null,
   "metadata": {},
   "outputs": [],
   "source": [
    "def calcular_promedio(calificaciones):\n",
    "    promedios = {}\n",
    "    for estudiante, notas in calificaciones.items():\n",
    "        promedio = sum(notas) / len(notas)\n",
    "        promedios[estudiante] = promedio\n",
    "    return promedios\n",
    "\n",
    "calificaciones = {\n",
    "    'Juan': [85, 90, 92],\n",
    "    'María': [88, 85, 87],\n",
    "    'Pedro': [90, 91, 89]\n",
    "}\n",
    "promedios = calcular_promedio(calificaciones)\n",
    "print(promedios)\n"
   ]
  },
  {
   "cell_type": "markdown",
   "metadata": {},
   "source": [
    "Problema 5: Eliminar duplicados de una lista\n",
    "Dada una lista, eliminar todos los elementos duplicados y conservar solo una instancia de cada elemento único."
   ]
  },
  {
   "cell_type": "code",
   "execution_count": null,
   "metadata": {},
   "outputs": [],
   "source": [
    "def eliminar_duplicados(lista):\n",
    "    sin_duplicados = []\n",
    "    for elemento in lista:\n",
    "        if elemento not in sin_duplicados:\n",
    "            sin_duplicados.append(elemento)\n",
    "    return sin_duplicados\n",
    "\n",
    "lista = [1, 2, 3, 4, 2, 3, 5, 6, 7, 7, 8]\n",
    "resultado = eliminar_duplicados(lista)\n",
    "print(resultado)\n"
   ]
  }
 ],
 "metadata": {
  "language_info": {
   "name": "python"
  }
 },
 "nbformat": 4,
 "nbformat_minor": 2
}
