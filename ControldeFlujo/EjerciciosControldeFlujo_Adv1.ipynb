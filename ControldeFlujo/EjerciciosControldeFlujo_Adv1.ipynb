{
 "cells": [
  {
   "cell_type": "markdown",
   "metadata": {},
   "source": [
    "Problema 1: Generar números primos\\\n",
    "Escribe una función para generar los primeros \"n\" números primos."
   ]
  },
  {
   "cell_type": "code",
   "execution_count": null,
   "metadata": {},
   "outputs": [],
   "source": [
    "def es_primo(num):\n",
    "    if num < 2:\n",
    "        return False\n",
    "    for i in range(2, int(num**0.5) + 1):\n",
    "        if num % i == 0:\n",
    "            return False\n",
    "    return True\n",
    "\n",
    "def generar_primos(n):\n",
    "    primos = []\n",
    "    num = 2\n",
    "    while len(primos) < n:\n",
    "        if es_primo(num):\n",
    "            primos.append(num)\n",
    "        num += 1\n",
    "    return primos\n",
    "\n",
    "n = 10\n",
    "resultado = generar_primos(n)\n",
    "print(resultado)\n"
   ]
  },
  {
   "cell_type": "markdown",
   "metadata": {},
   "source": [
    "Problema 2: Fusionar diccionarios\\\n",
    "Escribe una función para fusionar dos diccionarios, dando prioridad a los valores del segundo diccionario en caso de claves duplicadas."
   ]
  },
  {
   "cell_type": "code",
   "execution_count": null,
   "metadata": {},
   "outputs": [],
   "source": [
    "def fusionar_diccionarios(dic1, dic2):\n",
    "    dic_fusionado = dic1.copy()\n",
    "    for clave, valor in dic2.items():\n",
    "        dic_fusionado[clave] = valor\n",
    "    return dic_fusionado\n",
    "\n",
    "diccionario1 = {'a': 1, 'b': 2}\n",
    "diccionario2 = {'b': 3, 'c': 4}\n",
    "resultado = fusionar_diccionarios(diccionario1, diccionario2)\n",
    "print(resultado)\n"
   ]
  },
  {
   "cell_type": "markdown",
   "metadata": {},
   "source": [
    "Problema 3: Comprobar suma de sublistas\\\n",
    "Dada una lista de listas de números enteros y un número entero, encontrar todas las sublistas cuya suma sea igual al número dado."
   ]
  },
  {
   "cell_type": "code",
   "execution_count": null,
   "metadata": {},
   "outputs": [],
   "source": [
    "def encontrar_sublistas(lista, objetivo):\n",
    "    sublists = []\n",
    "    for i in range(len(lista)):\n",
    "        for j in range(i + 1, len(lista) + 1):\n",
    "            sublist = lista[i:j]\n",
    "            if sum(sublist) == objetivo:\n",
    "                sublists.append(sublist)\n",
    "    return sublists\n",
    "\n",
    "lista = [[1, 2, 3], [4, 5, 6], [7, 8, 9]]\n",
    "objetivo = 12\n",
    "resultado = encontrar_sublistas(lista, objetivo)\n",
    "print(resultado)\n"
   ]
  },
  {
   "cell_type": "markdown",
   "metadata": {},
   "source": [
    "Problema 4: Validar Sudoku\\\n",
    "Dado un tablero de Sudoku representado como una lista de listas, verifica si es una solución válida."
   ]
  },
  {
   "cell_type": "code",
   "execution_count": null,
   "metadata": {},
   "outputs": [],
   "source": [
    "def es_sudoku_valido(tablero):\n",
    "    for fila in tablero:\n",
    "        if len(set(fila)) != len(tablero):\n",
    "            return False\n",
    "    for columna in range(len(tablero)):\n",
    "        if len(set(tablero[fila][columna] for fila in range(len(tablero)))) != len(tablero):\n",
    "            return False\n",
    "    for fila_inicio in range(0, len(tablero), 3):\n",
    "        for columna_inicio in range(0, len(tablero), 3):\n",
    "            cuadrado = [tablero[i][j] for i in range(fila_inicio, fila_inicio + 3) for j in range(columna_inicio, columna_inicio + 3)]\n",
    "            if len(set(cuadrado)) != len(tablero):\n",
    "                return False\n",
    "    return True\n",
    "\n",
    "# Ejemplo de tablero de Sudoku (0 representa celdas vacías)\n",
    "sudoku = [\n",
    "    [5, 3, 0, 0, 7, 0, 0, 0, 0],\n",
    "    [6, 0, 0, 1, 9, 5, 0, 0, 0],\n",
    "    [0, 9, 8, 0, 0, 0, 0, 6, 0],\n",
    "    [8, 0, 0, 0, 6, 0, 0, 0, 3],\n",
    "    [4, 0, 0, 8, 0, 3, 0, 0, 1],\n",
    "    [7, 0, 0, 0, 2, 0, 0, 0, 6],\n",
    "    [0, 6, 0, 0, 0, 0, 2, 8, 0],\n",
    "    [0, 0, 0, 4, 1, 9, 0, 0, 5],\n",
    "    [0, 0, 0, 0, 8, 0, 0, 7, 9]\n",
    "]\n",
    "\n",
    "print(es_sudoku_valido(sudoku))\n"
   ]
  }
 ],
 "metadata": {
  "language_info": {
   "name": "python"
  }
 },
 "nbformat": 4,
 "nbformat_minor": 2
}
