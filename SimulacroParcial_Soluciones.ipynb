{
 "cells": [
  {
   "cell_type": "markdown",
   "metadata": {},
   "source": [
    "##\n",
    "Ejercicio 2: Desarrolla un programa que primero solicite al usuario cuántas tareas desea ingresar. Luego, usando un bucle, pide al usuario que ingrese el nombre de cada tarea, una por una, y las almacene en una lista. Al final, el programa debe usar print() para mostrar todas las tareas ingresadas."
   ]
  },
  {
   "cell_type": "code",
   "execution_count": 9,
   "metadata": {},
   "outputs": [
    {
     "name": "stdout",
     "output_type": "stream",
     "text": [
      "La lista de nombres generada es:  ['tete', 'toto', 'lerele']\n",
      "La lista de nombres generada con índices es:  ['tete', 'toto', 'lerele']\n",
      "La lista de nombres generada con while es:  ['tete', 'toto', 'lerele']\n",
      "La lista de nombres generada con índices y while es:  ['tete', 'toto', 'lerele']\n"
     ]
    }
   ],
   "source": [
    "#Ejercicio 2\n",
    "ntareas = int(input(\"Introduce el número de tareas\"))\n",
    "nombres = []\n",
    "nombres2 = [0]*ntareas\n",
    "nombres_w = []\n",
    "nombres2_w = [0]*ntareas\n",
    "#Opción 1 (utilizando bucle for) _ \n",
    "#Esta sería la forma más lógica de hacer el ejercicio ya que conocemos el número de tareas\n",
    "for i in range(ntareas):\n",
    "    aux = input(\"Introduce el nombre de la tarea\")\n",
    "    nombres = nombres + [aux]\n",
    "    nombres2[i] = aux\n",
    "\n",
    "#Opción 2 (utilizando un bucle while)\n",
    "count = 0\n",
    "while count<ntareas:\n",
    "    aux = input(\"Introduce el nombre de la tarea con while\")\n",
    "    nombres_w = nombres_w + [aux]\n",
    "    nombres2_w[i] = aux\n",
    "    count+=1    \n",
    "\n",
    "#Impresión de resultados\n",
    "print(\"La lista de nombres generada con bucle for es: \", nombres)\n",
    "print(\"La lista de nombres generada con bucle for e índices es: \", nombres2)\n",
    "print(\"La lista de nombres generada con bucle while es: \", nombres)\n",
    "print(\"La lista de nombres generada con bucle while e índices es: \", nombres2)\n"
   ]
  },
  {
   "cell_type": "markdown",
   "metadata": {},
   "source": [
    "Ejercicio 3: Crea un programa que solicite al usuario ingresar la nota de un examen (teniendo en cuenta que la nota máxima es 10). El programa debe convertir la entrada en un número y luego verificar si la nota es igual o superior a 5. Si es así, debe imprimir “Aprobado”, de lo contrario, debe imprimir “Suspenso”."
   ]
  },
  {
   "cell_type": "code",
   "execution_count": 12,
   "metadata": {},
   "outputs": [
    {
     "name": "stdout",
     "output_type": "stream",
     "text": [
      "La calificación está fuera de rango\n"
     ]
    }
   ],
   "source": [
    "#Ejercicio 3\n",
    "nota = float(input(\"Introduce la nota\"))\n",
    "\n",
    "\n",
    "#......-2 -1 0 1 2 3 4 5 6 7 8 9 10\n",
    "#----------------------|          |---------------\n",
    "#----Suspenso ---------| aprobado |---\n",
    "if nota >=0 and nota <= 10:\n",
    "    if nota >= 5:\n",
    "        print(\"Aprobado\")\n",
    "    else:\n",
    "        print(\"Suspenso\")\n",
    "else:\n",
    "    print(\"La calificación está fuera de rango\")\n"
   ]
  },
  {
   "cell_type": "markdown",
   "metadata": {},
   "source": [
    "Ejercicio 4: Define una función llamada calcular_promedio que reciba un diccionario donde las claves sean nombres de estudiantes y los valores sean listas de notas. La función debe calcular el promedio de notas para cada estudiante y almacenar los resultados en un nuevo diccionario donde la clave sea el nombre del estudiante y el valor sea su promedio de notas. Luego, la función debe retornar este nuevo diccionario."
   ]
  },
  {
   "cell_type": "code",
   "execution_count": 5,
   "metadata": {},
   "outputs": [
    {
     "name": "stdout",
     "output_type": "stream",
     "text": [
      "name_1 : [3, 4, 9]\n",
      "name_1 tiene un promedio de:  5.333333333333333\n",
      "name_2 : [4, 6, 7]\n",
      "name_2 tiene un promedio de:  5.666666666666667\n",
      "name_3 : [4.5, 5, 6.5]\n",
      "name_3 tiene un promedio de:  5.333333333333333\n",
      "El nuevo diccionario con promedios es:  {'name_1': 5.333333333333333, 'name_2': 5.666666666666667, 'name_3': 5.333333333333333}\n"
     ]
    }
   ],
   "source": [
    "#Ejercicio 4\n",
    "\n",
    "def calcular_promedio (estudiantes):\n",
    "    promedios = {}\n",
    "    for x, y in  estudiantes.items():\n",
    "        print(x, \":\", y)\n",
    "        promedio = 0\n",
    "        for i in y:\n",
    "            promedio = promedio + i\n",
    "        promedio /=len(y)\n",
    "        print(x, \"tiene un promedio de: \", promedio)\n",
    "        promedios[x] = promedio\n",
    "\n",
    "    return promedios\n",
    "\n",
    "\n",
    "estudiantes_cole1= {\n",
    "    \"name_1\" : [3, 4, 9],\n",
    "    \"name_2\" : [4, 6, 7],\n",
    "    \"name_3\" : [4.5, 5, 6.5]\n",
    "}\n",
    "\n",
    "prom_est1 = calcular_promedio(estudiantes_cole1)\n",
    "print(\"El nuevo diccionario con promedios es: \",prom_est1)"
   ]
  },
  {
   "cell_type": "markdown",
   "metadata": {},
   "source": [
    "Ejercicio 5: Define una función llamada contar_vocales que reciba una cadena de texto como argumento y retorne el número total de vocales (a, e, i, o, u) que contiene. Dentro de la función, utiliza un bucle para recorrer la cadena y un condicional para verificar si cada carácter es una vocal."
   ]
  },
  {
   "cell_type": "code",
   "execution_count": 8,
   "metadata": {},
   "outputs": [
    {
     "name": "stdout",
     "output_type": "stream",
     "text": [
      "La opción 1 dice que la cadena tiene 10 vocales\n",
      "La opción 2 dice que la cadena tiene 10 vocales\n",
      "La opción 3 dice que la cadena tiene 10 vocales\n"
     ]
    }
   ],
   "source": [
    "#Ejercicio 5\n",
    "\n",
    "def contar_vocales(cadena):\n",
    "    contador = 0\n",
    "\n",
    "    #Opción 1\n",
    "    for i in cadena:\n",
    "        if i==\"a\" or i==\"á\":\n",
    "            contador+=1\n",
    "        elif i==\"e\" or i==\"é\":\n",
    "            contador+=1\n",
    "        elif i==\"i\" or i==\"í\":\n",
    "            contador+=1\n",
    "        elif i==\"o\" or i==\"ó\":\n",
    "            contador+=1\n",
    "        elif i==\"u\" or i==\"ú\":\n",
    "            contador+=1\n",
    "    print(\"La opción 1 dice que la cadena tiene {} vocales\".format(contador))\n",
    "    \n",
    "    #Opción 2\n",
    "    contador = 0\n",
    "    for i in cadena:\n",
    "        if i==\"a\" or i==\"e\" or i==\"i\" or i==\"o\" or i==\"u\" or i==\"á\" or i==\"é\" or i==\"í\" or i==\"ó\" or i==\"ú\":\n",
    "            contador += 1\n",
    "    print(\"La opción 2 dice que la cadena tiene {} vocales\".format(contador))\n",
    "    \n",
    "    #Opción 3\n",
    "    contador = 0\n",
    "    for i in cadena:\n",
    "        if i in \"aeiouáéíóú\":\n",
    "            contador += 1\n",
    "    print(\"La opción 3 dice que la cadena tiene {} vocales\".format(contador))\n",
    "\n",
    "\n",
    "contar_vocales(\"ereretataristotutuá\")\n"
   ]
  }
 ],
 "metadata": {
  "kernelspec": {
   "display_name": "Python 3",
   "language": "python",
   "name": "python3"
  },
  "language_info": {
   "codemirror_mode": {
    "name": "ipython",
    "version": 3
   },
   "file_extension": ".py",
   "mimetype": "text/x-python",
   "name": "python",
   "nbconvert_exporter": "python",
   "pygments_lexer": "ipython3",
   "version": "3.11.7"
  }
 },
 "nbformat": 4,
 "nbformat_minor": 2
}
